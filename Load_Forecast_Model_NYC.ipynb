{
  "nbformat": 4,
  "nbformat_minor": 0,
  "metadata": {
    "colab": {
      "name": "Load Forecast Model - NYC.ipynb",
      "provenance": [],
      "collapsed_sections": [
        "_LxG1Fr0E2sI"
      ],
      "toc_visible": true,
      "mount_file_id": "1unySRfX3wc77XZWdGdr_bOSGEnL7kGb_",
      "authorship_tag": "ABX9TyPYqVNhMwpVMlIJaHV7f8bM",
      "include_colab_link": true
    },
    "kernelspec": {
      "name": "python3",
      "display_name": "Python 3"
    },
    "language_info": {
      "name": "python"
    }
  },
  "cells": [
    {
      "cell_type": "markdown",
      "metadata": {
        "id": "view-in-github",
        "colab_type": "text"
      },
      "source": [
        "<a href=\"https://colab.research.google.com/github/adityakulkarni0910/Load_Forecast_Model/blob/main/Load_Forecast_Model_NYC.ipynb\" target=\"_parent\"><img src=\"https://colab.research.google.com/assets/colab-badge.svg\" alt=\"Open In Colab\"/></a>"
      ]
    },
    {
      "cell_type": "markdown",
      "metadata": {
        "id": "_vKlQJLnyaKm"
      },
      "source": [
        ""
      ]
    },
    {
      "cell_type": "markdown",
      "metadata": {
        "id": "u9Tc-uqd68GY"
      },
      "source": [
        "# NYISO - Load data"
      ]
    },
    {
      "cell_type": "code",
      "metadata": {
        "id": "FQBBiKyZ6-0D"
      },
      "source": [
        "from bs4 import BeautifulSoup\n",
        "import requests\n",
        "\n",
        "html_page = requests.get('http://mis.nyiso.com/public/P-58Blist.htm')\n",
        "soup = BeautifulSoup(html_page.content, 'html.parser')\n",
        "\n",
        "# find all a href links available on this page\n",
        "file_urls = soup.findAll('a')\n",
        "links = [link.get('href') for link in file_urls]\n",
        "filtered_links = [link for link in links if link.endswith('.zip')]"
      ],
      "execution_count": 2,
      "outputs": []
    },
    {
      "cell_type": "code",
      "metadata": {
        "id": "Q46X2n4bkmmF"
      },
      "source": [
        "#filtered_links\n",
        "common_url = 'http://mis.nyiso.com/public/'\n",
        "filtered_links = [common_url + s for s in filtered_links]"
      ],
      "execution_count": 3,
      "outputs": []
    },
    {
      "cell_type": "code",
      "metadata": {
        "id": "IwDEOEfFvW_-"
      },
      "source": [
        "\n",
        "import pandas as pd\n",
        "from io import BytesIO\n",
        "from zipfile import ZipFile\n",
        "from urllib.request import urlopen\n",
        "\n",
        "# initiating a dataframe\n",
        "load_full = pd.DataFrame()\n",
        "\n",
        "for link in filtered_links:\n",
        "    # open url\n",
        "    resp = urlopen(link)\n",
        "    # read zipfile\n",
        "    zipfile = ZipFile(BytesIO(resp.read()))\n",
        "    # get the csv file names\n",
        "    fname = zipfile.namelist()\n",
        "    \n",
        "    \n",
        "    #for all files in every zip folder\n",
        "    for file in fname:\n",
        "      # convert to pandas dateframe\n",
        "      load = pd.read_csv(zipfile.open(file) )\n",
        "      \n",
        "      #filtering data to NYC\n",
        "      load = load[load['Name']=='N.Y.C.']\n",
        "\n",
        "      # concatenate dataframes\n",
        "      load_full = pd.concat([load_full,load], ignore_index=True, sort=False)\n",
        "        \n",
        "    # close zipfile we don't need\n",
        "    zipfile.close()"
      ],
      "execution_count": 5,
      "outputs": []
    },
    {
      "cell_type": "code",
      "metadata": {
        "colab": {
          "base_uri": "https://localhost:8080/",
          "height": 197
        },
        "id": "4LnJYI0gpryM",
        "outputId": "a1bb88f0-610e-4b40-b333-6c1da6313621"
      },
      "source": [
        "load_full.head()"
      ],
      "execution_count": 6,
      "outputs": [
        {
          "output_type": "execute_result",
          "data": {
            "text/html": [
              "<div>\n",
              "<style scoped>\n",
              "    .dataframe tbody tr th:only-of-type {\n",
              "        vertical-align: middle;\n",
              "    }\n",
              "\n",
              "    .dataframe tbody tr th {\n",
              "        vertical-align: top;\n",
              "    }\n",
              "\n",
              "    .dataframe thead th {\n",
              "        text-align: right;\n",
              "    }\n",
              "</style>\n",
              "<table border=\"1\" class=\"dataframe\">\n",
              "  <thead>\n",
              "    <tr style=\"text-align: right;\">\n",
              "      <th></th>\n",
              "      <th>Time Stamp</th>\n",
              "      <th>Time Zone</th>\n",
              "      <th>Name</th>\n",
              "      <th>PTID</th>\n",
              "      <th>Load</th>\n",
              "    </tr>\n",
              "  </thead>\n",
              "  <tbody>\n",
              "    <tr>\n",
              "      <th>0</th>\n",
              "      <td>05/01/2021 00:00:00</td>\n",
              "      <td>EDT</td>\n",
              "      <td>N.Y.C.</td>\n",
              "      <td>61761.0</td>\n",
              "      <td>4261.2480</td>\n",
              "    </tr>\n",
              "    <tr>\n",
              "      <th>1</th>\n",
              "      <td>05/01/2021 00:05:00</td>\n",
              "      <td>EDT</td>\n",
              "      <td>N.Y.C.</td>\n",
              "      <td>61761.0</td>\n",
              "      <td>4252.7850</td>\n",
              "    </tr>\n",
              "    <tr>\n",
              "      <th>2</th>\n",
              "      <td>05/01/2021 00:10:00</td>\n",
              "      <td>EDT</td>\n",
              "      <td>N.Y.C.</td>\n",
              "      <td>61761.0</td>\n",
              "      <td>4233.1177</td>\n",
              "    </tr>\n",
              "    <tr>\n",
              "      <th>3</th>\n",
              "      <td>05/01/2021 00:15:00</td>\n",
              "      <td>EDT</td>\n",
              "      <td>N.Y.C.</td>\n",
              "      <td>61761.0</td>\n",
              "      <td>4213.7046</td>\n",
              "    </tr>\n",
              "    <tr>\n",
              "      <th>4</th>\n",
              "      <td>05/01/2021 00:20:00</td>\n",
              "      <td>EDT</td>\n",
              "      <td>N.Y.C.</td>\n",
              "      <td>61761.0</td>\n",
              "      <td>4179.1064</td>\n",
              "    </tr>\n",
              "  </tbody>\n",
              "</table>\n",
              "</div>"
            ],
            "text/plain": [
              "            Time Stamp Time Zone    Name     PTID       Load\n",
              "0  05/01/2021 00:00:00       EDT  N.Y.C.  61761.0  4261.2480\n",
              "1  05/01/2021 00:05:00       EDT  N.Y.C.  61761.0  4252.7850\n",
              "2  05/01/2021 00:10:00       EDT  N.Y.C.  61761.0  4233.1177\n",
              "3  05/01/2021 00:15:00       EDT  N.Y.C.  61761.0  4213.7046\n",
              "4  05/01/2021 00:20:00       EDT  N.Y.C.  61761.0  4179.1064"
            ]
          },
          "metadata": {
            "tags": []
          },
          "execution_count": 6
        }
      ]
    },
    {
      "cell_type": "code",
      "metadata": {
        "id": "n99x0GiurLdh"
      },
      "source": [
        "load_full['Time Stamp']=pd.to_datetime(load_full['Time Stamp'])"
      ],
      "execution_count": 7,
      "outputs": []
    },
    {
      "cell_type": "code",
      "metadata": {
        "colab": {
          "base_uri": "https://localhost:8080/"
        },
        "id": "7zsbW_fiag4b",
        "outputId": "1cbbfe9f-2b78-42a7-ace8-17f50dcd7d37"
      },
      "source": [
        "load_full.info()"
      ],
      "execution_count": 8,
      "outputs": [
        {
          "output_type": "stream",
          "text": [
            "<class 'pandas.core.frame.DataFrame'>\n",
            "RangeIndex: 1718386 entries, 0 to 1718385\n",
            "Data columns (total 5 columns):\n",
            " #   Column      Dtype         \n",
            "---  ------      -----         \n",
            " 0   Time Stamp  datetime64[ns]\n",
            " 1   Time Zone   object        \n",
            " 2   Name        object        \n",
            " 3   PTID        float64       \n",
            " 4   Load        float64       \n",
            "dtypes: datetime64[ns](1), float64(2), object(2)\n",
            "memory usage: 65.6+ MB\n"
          ],
          "name": "stdout"
        }
      ]
    },
    {
      "cell_type": "code",
      "metadata": {
        "id": "3RaFzonrUP7o"
      },
      "source": [
        "load_h = load_full.set_index('Time Stamp').resample('60min').mean()\n",
        "load_h = load_h.reset_index()\n",
        "load_h.drop(columns=['PTID'],inplace=True)"
      ],
      "execution_count": 9,
      "outputs": []
    },
    {
      "cell_type": "code",
      "metadata": {
        "colab": {
          "base_uri": "https://localhost:8080/",
          "height": 197
        },
        "id": "9pLX_NKJUQIl",
        "outputId": "050ed31d-6f79-4657-fd25-acd77f6d9a13"
      },
      "source": [
        "load_h.head()"
      ],
      "execution_count": 10,
      "outputs": [
        {
          "output_type": "execute_result",
          "data": {
            "text/html": [
              "<div>\n",
              "<style scoped>\n",
              "    .dataframe tbody tr th:only-of-type {\n",
              "        vertical-align: middle;\n",
              "    }\n",
              "\n",
              "    .dataframe tbody tr th {\n",
              "        vertical-align: top;\n",
              "    }\n",
              "\n",
              "    .dataframe thead th {\n",
              "        text-align: right;\n",
              "    }\n",
              "</style>\n",
              "<table border=\"1\" class=\"dataframe\">\n",
              "  <thead>\n",
              "    <tr style=\"text-align: right;\">\n",
              "      <th></th>\n",
              "      <th>Time Stamp</th>\n",
              "      <th>Load</th>\n",
              "    </tr>\n",
              "  </thead>\n",
              "  <tbody>\n",
              "    <tr>\n",
              "      <th>0</th>\n",
              "      <td>2005-01-31 00:00:00</td>\n",
              "      <td>4616.341667</td>\n",
              "    </tr>\n",
              "    <tr>\n",
              "      <th>1</th>\n",
              "      <td>2005-01-31 01:00:00</td>\n",
              "      <td>4423.291667</td>\n",
              "    </tr>\n",
              "    <tr>\n",
              "      <th>2</th>\n",
              "      <td>2005-01-31 02:00:00</td>\n",
              "      <td>4297.016667</td>\n",
              "    </tr>\n",
              "    <tr>\n",
              "      <th>3</th>\n",
              "      <td>2005-01-31 03:00:00</td>\n",
              "      <td>4253.200000</td>\n",
              "    </tr>\n",
              "    <tr>\n",
              "      <th>4</th>\n",
              "      <td>2005-01-31 04:00:00</td>\n",
              "      <td>4284.258333</td>\n",
              "    </tr>\n",
              "  </tbody>\n",
              "</table>\n",
              "</div>"
            ],
            "text/plain": [
              "           Time Stamp         Load\n",
              "0 2005-01-31 00:00:00  4616.341667\n",
              "1 2005-01-31 01:00:00  4423.291667\n",
              "2 2005-01-31 02:00:00  4297.016667\n",
              "3 2005-01-31 03:00:00  4253.200000\n",
              "4 2005-01-31 04:00:00  4284.258333"
            ]
          },
          "metadata": {
            "tags": []
          },
          "execution_count": 10
        }
      ]
    },
    {
      "cell_type": "code",
      "metadata": {
        "id": "3n2vcCotUQPf"
      },
      "source": [
        "load_d = load_full.set_index('Time Stamp').resample('D').mean()\n",
        "load_d = load_d.reset_index()\n",
        "load_d.drop(columns=['PTID'],inplace=True)"
      ],
      "execution_count": 11,
      "outputs": []
    },
    {
      "cell_type": "code",
      "metadata": {
        "colab": {
          "base_uri": "https://localhost:8080/",
          "height": 197
        },
        "id": "1LVzWCFM4C7P",
        "outputId": "cd74c003-93bb-4c06-8cc3-1c954cf46440"
      },
      "source": [
        "load_d.head()"
      ],
      "execution_count": 12,
      "outputs": [
        {
          "output_type": "execute_result",
          "data": {
            "text/html": [
              "<div>\n",
              "<style scoped>\n",
              "    .dataframe tbody tr th:only-of-type {\n",
              "        vertical-align: middle;\n",
              "    }\n",
              "\n",
              "    .dataframe tbody tr th {\n",
              "        vertical-align: top;\n",
              "    }\n",
              "\n",
              "    .dataframe thead th {\n",
              "        text-align: right;\n",
              "    }\n",
              "</style>\n",
              "<table border=\"1\" class=\"dataframe\">\n",
              "  <thead>\n",
              "    <tr style=\"text-align: right;\">\n",
              "      <th></th>\n",
              "      <th>Time Stamp</th>\n",
              "      <th>Load</th>\n",
              "    </tr>\n",
              "  </thead>\n",
              "  <tbody>\n",
              "    <tr>\n",
              "      <th>0</th>\n",
              "      <td>2005-01-31</td>\n",
              "      <td>5657.095205</td>\n",
              "    </tr>\n",
              "    <tr>\n",
              "      <th>1</th>\n",
              "      <td>2005-02-01</td>\n",
              "      <td>5580.662630</td>\n",
              "    </tr>\n",
              "    <tr>\n",
              "      <th>2</th>\n",
              "      <td>2005-02-02</td>\n",
              "      <td>5535.835517</td>\n",
              "    </tr>\n",
              "    <tr>\n",
              "      <th>3</th>\n",
              "      <td>2005-02-03</td>\n",
              "      <td>5514.954639</td>\n",
              "    </tr>\n",
              "    <tr>\n",
              "      <th>4</th>\n",
              "      <td>2005-02-04</td>\n",
              "      <td>5717.773469</td>\n",
              "    </tr>\n",
              "  </tbody>\n",
              "</table>\n",
              "</div>"
            ],
            "text/plain": [
              "  Time Stamp         Load\n",
              "0 2005-01-31  5657.095205\n",
              "1 2005-02-01  5580.662630\n",
              "2 2005-02-02  5535.835517\n",
              "3 2005-02-03  5514.954639\n",
              "4 2005-02-04  5717.773469"
            ]
          },
          "metadata": {
            "tags": []
          },
          "execution_count": 12
        }
      ]
    },
    {
      "cell_type": "code",
      "metadata": {
        "id": "tT_6fD7V4LFN"
      },
      "source": [
        ""
      ],
      "execution_count": 12,
      "outputs": []
    },
    {
      "cell_type": "code",
      "metadata": {
        "id": "vniDJ6KA4LMR"
      },
      "source": [
        ""
      ],
      "execution_count": 12,
      "outputs": []
    },
    {
      "cell_type": "code",
      "metadata": {
        "id": "V8FI62As4LTq"
      },
      "source": [
        ""
      ],
      "execution_count": 12,
      "outputs": []
    },
    {
      "cell_type": "markdown",
      "metadata": {
        "id": "x2gK3J2LPIAb"
      },
      "source": [
        "# NOAA - Weather data"
      ]
    },
    {
      "cell_type": "code",
      "metadata": {
        "id": "YCxA6isIPKEc"
      },
      "source": [
        "#needed to make web requests\n",
        "import requests\n",
        "\n",
        "#store the data we get as a dataframe\n",
        "import pandas as pd\n",
        "\n",
        "#convert the response as a strcuctured json\n",
        "import json\n",
        "\n",
        "#mathematical operations on lists\n",
        "import numpy as np\n",
        "\n",
        "#parse the datetimes we get from NOAA\n",
        "from datetime import datetime\n",
        "\n",
        "#add the access token you got from NOAA\n",
        "Token = 'ZhWNXHpCRhUObdcNxmSlkSXEPrCreqbc'\n",
        "\n",
        "#Long Beach Airport station\n",
        "station_id = 'GHCND:USW00094728'"
      ],
      "execution_count": 30,
      "outputs": []
    },
    {
      "cell_type": "code",
      "metadata": {
        "id": "tI0FILJ3Rxaw"
      },
      "source": [
        "from datetime import date\n",
        "\n",
        "dataset_id = 'GHCND'\n",
        "\n",
        "datatype_id = ['AWND', 'PRCP', 'SNOW', 'TAVG', 'TMAX',\n",
        "       'TMIN', 'WDF2', 'WSF2', 'TSUN', 'WT01', 'WT08',\n",
        "       'WT13', 'WT16', 'WT18', 'WT19', 'WT02', 'WT22']\n",
        "\n",
        "limit = str(1000)\n",
        "\n",
        "start_year = 2001\n",
        "\n",
        "end_year = date.today().year"
      ],
      "execution_count": 31,
      "outputs": []
    },
    {
      "cell_type": "code",
      "metadata": {
        "id": "ZtZea4hAxJi6"
      },
      "source": [
        ""
      ],
      "execution_count": null,
      "outputs": []
    },
    {
      "cell_type": "code",
      "metadata": {
        "colab": {
          "base_uri": "https://localhost:8080/"
        },
        "id": "BXAjO4eOyEN3",
        "outputId": "a432cc8e-58a1-4559-f371-95208a564289"
      },
      "source": [
        "#2\n",
        "\n",
        "weather = pd.DataFrame()\n",
        "\n",
        "#for each year from 2001-2021 ...\n",
        "for year in range(start_year, end_year+1):\n",
        "    year = str(year)\n",
        "    \n",
        "    for dtype in datatype_id:\n",
        "\n",
        "    #make the api call\n",
        "      r = requests.get('https://www.ncdc.noaa.gov/cdo-web/api/v2/data?datasetid='+dataset_id+'&datatypeid='+dtype+'&limit='+limit+'&stationid='+station_id+'&startdate='+year+'-01-01&enddate='+year+'-12-31', headers={'token':Token})\n",
        "\n",
        "      d = json.loads(r.text)\n",
        "\n",
        "      if d != {}:\n",
        "\n",
        "        df = pd.DataFrame(d['results'])\n",
        "        weather = pd.concat([weather, df], ignore_index=True, sort=False)\n",
        "\n",
        "      else:\n",
        "        print('year '+year+'- datatype '+dtype+' not available!')\n",
        "    print('year '+year+' done')\n"
      ],
      "execution_count": null,
      "outputs": [
        {
          "output_type": "stream",
          "text": [
            "year 2001 done\n",
            "year 2002 done\n",
            "year 2003 done\n",
            "year 2004 done\n",
            "year 2005 done\n",
            "year 2006- datatype TAVG not available!\n",
            "year 2006- datatype TSUN not available!\n",
            "year 2006 done\n",
            "year 2007- datatype TAVG not available!\n",
            "year 2007- datatype TSUN not available!\n",
            "year 2007 done\n",
            "year 2008- datatype TAVG not available!\n",
            "year 2008- datatype TSUN not available!\n",
            "year 2008 done\n",
            "year 2009- datatype TAVG not available!\n",
            "year 2009- datatype TSUN not available!\n",
            "year 2009 done\n",
            "year 2010- datatype TAVG not available!\n",
            "year 2010- datatype TSUN not available!\n",
            "year 2010 done\n",
            "year 2011- datatype TAVG not available!\n",
            "year 2011- datatype TSUN not available!\n",
            "year 2011 done\n",
            "year 2012- datatype TAVG not available!\n",
            "year 2012- datatype TSUN not available!\n",
            "year 2012 done\n",
            "year 2013- datatype TAVG not available!\n",
            "year 2013- datatype TSUN not available!\n",
            "year 2013 done\n",
            "year 2014- datatype TAVG not available!\n",
            "year 2014- datatype TSUN not available!\n",
            "year 2014- datatype WT13 not available!\n",
            "year 2014- datatype WT16 not available!\n",
            "year 2014- datatype WT18 not available!\n",
            "year 2014- datatype WT19 not available!\n",
            "year 2014- datatype WT02 not available!\n",
            "year 2014- datatype WT22 not available!\n",
            "year 2014 done\n",
            "year 2015- datatype TAVG not available!\n",
            "year 2015- datatype TSUN not available!\n",
            "year 2015- datatype WT13 not available!\n",
            "year 2015- datatype WT16 not available!\n",
            "year 2015- datatype WT18 not available!\n",
            "year 2015- datatype WT19 not available!\n",
            "year 2015- datatype WT22 not available!\n",
            "year 2015 done\n",
            "year 2016- datatype TAVG not available!\n",
            "year 2016- datatype TSUN not available!\n",
            "year 2016- datatype WT13 not available!\n",
            "year 2016- datatype WT16 not available!\n",
            "year 2016- datatype WT18 not available!\n",
            "year 2016- datatype WT19 not available!\n",
            "year 2016- datatype WT22 not available!\n",
            "year 2016 done\n",
            "year 2017- datatype TAVG not available!\n",
            "year 2017- datatype WT13 not available!\n",
            "year 2017- datatype WT16 not available!\n",
            "year 2017- datatype WT18 not available!\n",
            "year 2017- datatype WT19 not available!\n",
            "year 2017- datatype WT22 not available!\n",
            "year 2017 done\n",
            "year 2018- datatype TAVG not available!\n",
            "year 2018- datatype TSUN not available!\n",
            "year 2018- datatype WT13 not available!\n",
            "year 2018- datatype WT16 not available!\n",
            "year 2018- datatype WT18 not available!\n",
            "year 2018- datatype WT19 not available!\n",
            "year 2018- datatype WT22 not available!\n",
            "year 2018 done\n",
            "year 2019- datatype TAVG not available!\n",
            "year 2019- datatype TSUN not available!\n",
            "year 2019- datatype WT13 not available!\n",
            "year 2019- datatype WT16 not available!\n",
            "year 2019- datatype WT18 not available!\n",
            "year 2019- datatype WT19 not available!\n",
            "year 2019- datatype WT22 not available!\n",
            "year 2019 done\n",
            "year 2020- datatype TAVG not available!\n",
            "year 2020- datatype TSUN not available!\n",
            "year 2020- datatype WT13 not available!\n",
            "year 2020- datatype WT16 not available!\n",
            "year 2020- datatype WT18 not available!\n",
            "year 2020- datatype WT19 not available!\n",
            "year 2020- datatype WT22 not available!\n",
            "year 2020 done\n",
            "year 2021- datatype TAVG not available!\n",
            "year 2021- datatype WT13 not available!\n",
            "year 2021- datatype WT16 not available!\n",
            "year 2021- datatype WT18 not available!\n",
            "year 2021- datatype WT19 not available!\n",
            "year 2021- datatype WT22 not available!\n",
            "year 2021 done\n"
          ],
          "name": "stdout"
        }
      ]
    },
    {
      "cell_type": "code",
      "metadata": {
        "id": "Qs6wSSSlzRsG"
      },
      "source": [
        "weather_2 = weather.pivot(index='date',columns='datatype',values='value')\n",
        "weather_2.reset_index(inplace=True)\n",
        "weather_2['date'] = pd.to_datetime(weather_2['date'])"
      ],
      "execution_count": null,
      "outputs": []
    },
    {
      "cell_type": "code",
      "metadata": {
        "id": "V2i8aJ0P3Wtc"
      },
      "source": [
        "weather_2.head()"
      ],
      "execution_count": null,
      "outputs": []
    },
    {
      "cell_type": "code",
      "metadata": {
        "id": "HKCeCnmr40Bq"
      },
      "source": [
        "weather_2.isnull().mean()"
      ],
      "execution_count": null,
      "outputs": []
    },
    {
      "cell_type": "code",
      "metadata": {
        "id": "Z1WCEpya_AbV"
      },
      "source": [
        "weather_2.drop(columns=['TAVG', 'TSUN'],inplace=True)"
      ],
      "execution_count": null,
      "outputs": []
    },
    {
      "cell_type": "code",
      "metadata": {
        "id": "Fj-Vulo4Bb_Y"
      },
      "source": [
        "for i in weather_2.columns:\n",
        "  if i.startswith('WT'):\n",
        "#    print(i)\n",
        "    weather_2[i].fillna(0,inplace=True)"
      ],
      "execution_count": null,
      "outputs": []
    },
    {
      "cell_type": "code",
      "metadata": {
        "id": "OTbC2qHjDFFD"
      },
      "source": [
        "weather_2"
      ],
      "execution_count": null,
      "outputs": []
    },
    {
      "cell_type": "code",
      "metadata": {
        "id": "Mz6m5ux1e4pd"
      },
      "source": [
        ""
      ],
      "execution_count": null,
      "outputs": []
    },
    {
      "cell_type": "markdown",
      "metadata": {
        "id": "GvXpoPma6AhX"
      },
      "source": [
        "# Pre-Processing"
      ]
    },
    {
      "cell_type": "code",
      "metadata": {
        "colab": {
          "base_uri": "https://localhost:8080/",
          "height": 197
        },
        "id": "LoO2Fjn66E6G",
        "outputId": "feb0b6b6-504d-4b71-ce7d-a2be53050104"
      },
      "source": [
        "load_d.rename(columns={'Time Stamp':'date'},inplace=True)\n",
        "load_d.head()"
      ],
      "execution_count": null,
      "outputs": [
        {
          "output_type": "execute_result",
          "data": {
            "text/html": [
              "<div>\n",
              "<style scoped>\n",
              "    .dataframe tbody tr th:only-of-type {\n",
              "        vertical-align: middle;\n",
              "    }\n",
              "\n",
              "    .dataframe tbody tr th {\n",
              "        vertical-align: top;\n",
              "    }\n",
              "\n",
              "    .dataframe thead th {\n",
              "        text-align: right;\n",
              "    }\n",
              "</style>\n",
              "<table border=\"1\" class=\"dataframe\">\n",
              "  <thead>\n",
              "    <tr style=\"text-align: right;\">\n",
              "      <th></th>\n",
              "      <th>date</th>\n",
              "      <th>Load</th>\n",
              "    </tr>\n",
              "  </thead>\n",
              "  <tbody>\n",
              "    <tr>\n",
              "      <th>0</th>\n",
              "      <td>2005-01-31</td>\n",
              "      <td>5657.095205</td>\n",
              "    </tr>\n",
              "    <tr>\n",
              "      <th>1</th>\n",
              "      <td>2005-02-01</td>\n",
              "      <td>5580.662630</td>\n",
              "    </tr>\n",
              "    <tr>\n",
              "      <th>2</th>\n",
              "      <td>2005-02-02</td>\n",
              "      <td>5535.835517</td>\n",
              "    </tr>\n",
              "    <tr>\n",
              "      <th>3</th>\n",
              "      <td>2005-02-03</td>\n",
              "      <td>5514.954639</td>\n",
              "    </tr>\n",
              "    <tr>\n",
              "      <th>4</th>\n",
              "      <td>2005-02-04</td>\n",
              "      <td>5717.773469</td>\n",
              "    </tr>\n",
              "  </tbody>\n",
              "</table>\n",
              "</div>"
            ],
            "text/plain": [
              "        date         Load\n",
              "0 2005-01-31  5657.095205\n",
              "1 2005-02-01  5580.662630\n",
              "2 2005-02-02  5535.835517\n",
              "3 2005-02-03  5514.954639\n",
              "4 2005-02-04  5717.773469"
            ]
          },
          "metadata": {
            "tags": []
          },
          "execution_count": 185
        }
      ]
    },
    {
      "cell_type": "code",
      "metadata": {
        "colab": {
          "base_uri": "https://localhost:8080/",
          "height": 197
        },
        "id": "SzOGdzmE6IIP",
        "outputId": "257674be-b345-4dc3-be9a-7092eb258638"
      },
      "source": [
        "weather_2.head()"
      ],
      "execution_count": null,
      "outputs": [
        {
          "output_type": "execute_result",
          "data": {
            "text/html": [
              "<div>\n",
              "<style scoped>\n",
              "    .dataframe tbody tr th:only-of-type {\n",
              "        vertical-align: middle;\n",
              "    }\n",
              "\n",
              "    .dataframe tbody tr th {\n",
              "        vertical-align: top;\n",
              "    }\n",
              "\n",
              "    .dataframe thead th {\n",
              "        text-align: right;\n",
              "    }\n",
              "</style>\n",
              "<table border=\"1\" class=\"dataframe\">\n",
              "  <thead>\n",
              "    <tr style=\"text-align: right;\">\n",
              "      <th>datatype</th>\n",
              "      <th>date</th>\n",
              "      <th>AWND</th>\n",
              "      <th>PRCP</th>\n",
              "      <th>SNOW</th>\n",
              "      <th>TMAX</th>\n",
              "      <th>TMIN</th>\n",
              "      <th>WDF2</th>\n",
              "      <th>WSF2</th>\n",
              "      <th>WT01</th>\n",
              "      <th>WT02</th>\n",
              "      <th>WT08</th>\n",
              "      <th>WT13</th>\n",
              "      <th>WT16</th>\n",
              "      <th>WT18</th>\n",
              "      <th>WT19</th>\n",
              "      <th>WT22</th>\n",
              "    </tr>\n",
              "  </thead>\n",
              "  <tbody>\n",
              "    <tr>\n",
              "      <th>0</th>\n",
              "      <td>2001-01-01</td>\n",
              "      <td>58.0</td>\n",
              "      <td>0.0</td>\n",
              "      <td>0.0</td>\n",
              "      <td>0.0</td>\n",
              "      <td>-50.0</td>\n",
              "      <td>0.0</td>\n",
              "      <td>94.0</td>\n",
              "      <td>0.0</td>\n",
              "      <td>0.0</td>\n",
              "      <td>0.0</td>\n",
              "      <td>0.0</td>\n",
              "      <td>0.0</td>\n",
              "      <td>0.0</td>\n",
              "      <td>0.0</td>\n",
              "      <td>0.0</td>\n",
              "    </tr>\n",
              "    <tr>\n",
              "      <th>1</th>\n",
              "      <td>2001-01-02</td>\n",
              "      <td>46.0</td>\n",
              "      <td>0.0</td>\n",
              "      <td>0.0</td>\n",
              "      <td>-28.0</td>\n",
              "      <td>-72.0</td>\n",
              "      <td>320.0</td>\n",
              "      <td>72.0</td>\n",
              "      <td>0.0</td>\n",
              "      <td>0.0</td>\n",
              "      <td>0.0</td>\n",
              "      <td>0.0</td>\n",
              "      <td>0.0</td>\n",
              "      <td>0.0</td>\n",
              "      <td>0.0</td>\n",
              "      <td>0.0</td>\n",
              "    </tr>\n",
              "    <tr>\n",
              "      <th>2</th>\n",
              "      <td>2001-01-03</td>\n",
              "      <td>28.0</td>\n",
              "      <td>0.0</td>\n",
              "      <td>0.0</td>\n",
              "      <td>-6.0</td>\n",
              "      <td>-78.0</td>\n",
              "      <td>270.0</td>\n",
              "      <td>63.0</td>\n",
              "      <td>0.0</td>\n",
              "      <td>0.0</td>\n",
              "      <td>0.0</td>\n",
              "      <td>0.0</td>\n",
              "      <td>0.0</td>\n",
              "      <td>0.0</td>\n",
              "      <td>0.0</td>\n",
              "      <td>0.0</td>\n",
              "    </tr>\n",
              "    <tr>\n",
              "      <th>3</th>\n",
              "      <td>2001-01-04</td>\n",
              "      <td>30.0</td>\n",
              "      <td>0.0</td>\n",
              "      <td>0.0</td>\n",
              "      <td>11.0</td>\n",
              "      <td>-39.0</td>\n",
              "      <td>300.0</td>\n",
              "      <td>63.0</td>\n",
              "      <td>0.0</td>\n",
              "      <td>0.0</td>\n",
              "      <td>0.0</td>\n",
              "      <td>0.0</td>\n",
              "      <td>0.0</td>\n",
              "      <td>0.0</td>\n",
              "      <td>0.0</td>\n",
              "      <td>0.0</td>\n",
              "    </tr>\n",
              "    <tr>\n",
              "      <th>4</th>\n",
              "      <td>2001-01-05</td>\n",
              "      <td>23.0</td>\n",
              "      <td>48.0</td>\n",
              "      <td>46.0</td>\n",
              "      <td>6.0</td>\n",
              "      <td>-44.0</td>\n",
              "      <td>270.0</td>\n",
              "      <td>67.0</td>\n",
              "      <td>1.0</td>\n",
              "      <td>1.0</td>\n",
              "      <td>0.0</td>\n",
              "      <td>1.0</td>\n",
              "      <td>0.0</td>\n",
              "      <td>1.0</td>\n",
              "      <td>0.0</td>\n",
              "      <td>1.0</td>\n",
              "    </tr>\n",
              "  </tbody>\n",
              "</table>\n",
              "</div>"
            ],
            "text/plain": [
              "datatype       date  AWND  PRCP  SNOW  TMAX  ...  WT13  WT16  WT18  WT19  WT22\n",
              "0        2001-01-01  58.0   0.0   0.0   0.0  ...   0.0   0.0   0.0   0.0   0.0\n",
              "1        2001-01-02  46.0   0.0   0.0 -28.0  ...   0.0   0.0   0.0   0.0   0.0\n",
              "2        2001-01-03  28.0   0.0   0.0  -6.0  ...   0.0   0.0   0.0   0.0   0.0\n",
              "3        2001-01-04  30.0   0.0   0.0  11.0  ...   0.0   0.0   0.0   0.0   0.0\n",
              "4        2001-01-05  23.0  48.0  46.0   6.0  ...   1.0   0.0   1.0   0.0   1.0\n",
              "\n",
              "[5 rows x 16 columns]"
            ]
          },
          "metadata": {
            "tags": []
          },
          "execution_count": 184
        }
      ]
    },
    {
      "cell_type": "code",
      "metadata": {
        "colab": {
          "base_uri": "https://localhost:8080/",
          "height": 197
        },
        "id": "wJPFiCOY6NJb",
        "outputId": "15297597-3236-410a-91a5-3198b1b592ee"
      },
      "source": [
        "data = pd.merge(load_d, weather_2,how='left',on='date')\n",
        "data.head()"
      ],
      "execution_count": null,
      "outputs": [
        {
          "output_type": "execute_result",
          "data": {
            "text/html": [
              "<div>\n",
              "<style scoped>\n",
              "    .dataframe tbody tr th:only-of-type {\n",
              "        vertical-align: middle;\n",
              "    }\n",
              "\n",
              "    .dataframe tbody tr th {\n",
              "        vertical-align: top;\n",
              "    }\n",
              "\n",
              "    .dataframe thead th {\n",
              "        text-align: right;\n",
              "    }\n",
              "</style>\n",
              "<table border=\"1\" class=\"dataframe\">\n",
              "  <thead>\n",
              "    <tr style=\"text-align: right;\">\n",
              "      <th></th>\n",
              "      <th>date</th>\n",
              "      <th>Load</th>\n",
              "      <th>AWND</th>\n",
              "      <th>PRCP</th>\n",
              "      <th>SNOW</th>\n",
              "      <th>TMAX</th>\n",
              "      <th>TMIN</th>\n",
              "      <th>WDF2</th>\n",
              "      <th>WSF2</th>\n",
              "      <th>WT01</th>\n",
              "      <th>WT02</th>\n",
              "      <th>WT08</th>\n",
              "      <th>WT13</th>\n",
              "      <th>WT16</th>\n",
              "      <th>WT18</th>\n",
              "      <th>WT19</th>\n",
              "      <th>WT22</th>\n",
              "    </tr>\n",
              "  </thead>\n",
              "  <tbody>\n",
              "    <tr>\n",
              "      <th>0</th>\n",
              "      <td>2005-01-31</td>\n",
              "      <td>5657.095205</td>\n",
              "      <td>28.0</td>\n",
              "      <td>0.0</td>\n",
              "      <td>0.0</td>\n",
              "      <td>17.0</td>\n",
              "      <td>-44.0</td>\n",
              "      <td>20.0</td>\n",
              "      <td>58.0</td>\n",
              "      <td>0.0</td>\n",
              "      <td>0.0</td>\n",
              "      <td>0.0</td>\n",
              "      <td>0.0</td>\n",
              "      <td>0.0</td>\n",
              "      <td>0.0</td>\n",
              "      <td>0.0</td>\n",
              "      <td>0.0</td>\n",
              "    </tr>\n",
              "    <tr>\n",
              "      <th>1</th>\n",
              "      <td>2005-02-01</td>\n",
              "      <td>5580.662630</td>\n",
              "      <td>12.0</td>\n",
              "      <td>0.0</td>\n",
              "      <td>0.0</td>\n",
              "      <td>44.0</td>\n",
              "      <td>-39.0</td>\n",
              "      <td>350.0</td>\n",
              "      <td>31.0</td>\n",
              "      <td>0.0</td>\n",
              "      <td>0.0</td>\n",
              "      <td>0.0</td>\n",
              "      <td>0.0</td>\n",
              "      <td>0.0</td>\n",
              "      <td>0.0</td>\n",
              "      <td>0.0</td>\n",
              "      <td>0.0</td>\n",
              "    </tr>\n",
              "    <tr>\n",
              "      <th>2</th>\n",
              "      <td>2005-02-02</td>\n",
              "      <td>5535.835517</td>\n",
              "      <td>23.0</td>\n",
              "      <td>0.0</td>\n",
              "      <td>0.0</td>\n",
              "      <td>44.0</td>\n",
              "      <td>-22.0</td>\n",
              "      <td>60.0</td>\n",
              "      <td>63.0</td>\n",
              "      <td>0.0</td>\n",
              "      <td>0.0</td>\n",
              "      <td>0.0</td>\n",
              "      <td>0.0</td>\n",
              "      <td>0.0</td>\n",
              "      <td>0.0</td>\n",
              "      <td>0.0</td>\n",
              "      <td>0.0</td>\n",
              "    </tr>\n",
              "    <tr>\n",
              "      <th>3</th>\n",
              "      <td>2005-02-03</td>\n",
              "      <td>5514.954639</td>\n",
              "      <td>34.0</td>\n",
              "      <td>5.0</td>\n",
              "      <td>0.0</td>\n",
              "      <td>50.0</td>\n",
              "      <td>-17.0</td>\n",
              "      <td>70.0</td>\n",
              "      <td>76.0</td>\n",
              "      <td>0.0</td>\n",
              "      <td>0.0</td>\n",
              "      <td>0.0</td>\n",
              "      <td>0.0</td>\n",
              "      <td>0.0</td>\n",
              "      <td>0.0</td>\n",
              "      <td>1.0</td>\n",
              "      <td>0.0</td>\n",
              "    </tr>\n",
              "    <tr>\n",
              "      <th>4</th>\n",
              "      <td>2005-02-04</td>\n",
              "      <td>5717.773469</td>\n",
              "      <td>30.0</td>\n",
              "      <td>69.0</td>\n",
              "      <td>0.0</td>\n",
              "      <td>78.0</td>\n",
              "      <td>11.0</td>\n",
              "      <td>40.0</td>\n",
              "      <td>67.0</td>\n",
              "      <td>1.0</td>\n",
              "      <td>0.0</td>\n",
              "      <td>0.0</td>\n",
              "      <td>1.0</td>\n",
              "      <td>0.0</td>\n",
              "      <td>1.0</td>\n",
              "      <td>1.0</td>\n",
              "      <td>0.0</td>\n",
              "    </tr>\n",
              "  </tbody>\n",
              "</table>\n",
              "</div>"
            ],
            "text/plain": [
              "        date         Load  AWND  PRCP  SNOW  ...  WT13  WT16  WT18  WT19  WT22\n",
              "0 2005-01-31  5657.095205  28.0   0.0   0.0  ...   0.0   0.0   0.0   0.0   0.0\n",
              "1 2005-02-01  5580.662630  12.0   0.0   0.0  ...   0.0   0.0   0.0   0.0   0.0\n",
              "2 2005-02-02  5535.835517  23.0   0.0   0.0  ...   0.0   0.0   0.0   0.0   0.0\n",
              "3 2005-02-03  5514.954639  34.0   5.0   0.0  ...   0.0   0.0   0.0   1.0   0.0\n",
              "4 2005-02-04  5717.773469  30.0  69.0   0.0  ...   1.0   0.0   1.0   1.0   0.0\n",
              "\n",
              "[5 rows x 17 columns]"
            ]
          },
          "metadata": {
            "tags": []
          },
          "execution_count": 187
        }
      ]
    },
    {
      "cell_type": "code",
      "metadata": {
        "colab": {
          "base_uri": "https://localhost:8080/"
        },
        "id": "_Tu05QwA9vmA",
        "outputId": "29515d49-c5e0-4870-a733-ca10e8eb5706"
      },
      "source": [
        "data.isnull().mean()"
      ],
      "execution_count": null,
      "outputs": [
        {
          "output_type": "execute_result",
          "data": {
            "text/plain": [
              "date    0.000000\n",
              "Load    0.005220\n",
              "AWND    0.039064\n",
              "PRCP    0.000505\n",
              "SNOW    0.000505\n",
              "TMAX    0.000505\n",
              "TMIN    0.000505\n",
              "WDF2    0.040916\n",
              "WSF2    0.040411\n",
              "WT01    0.000505\n",
              "WT02    0.000505\n",
              "WT08    0.000505\n",
              "WT13    0.000505\n",
              "WT16    0.000505\n",
              "WT18    0.000505\n",
              "WT19    0.000505\n",
              "WT22    0.000505\n",
              "dtype: float64"
            ]
          },
          "metadata": {
            "tags": []
          },
          "execution_count": 188
        }
      ]
    },
    {
      "cell_type": "code",
      "metadata": {
        "colab": {
          "base_uri": "https://localhost:8080/"
        },
        "id": "gfYqpJOSB0ge",
        "outputId": "942e4639-93b3-462d-8751-18de4e376b8e"
      },
      "source": [
        "data['Load'].interpolate(method='linear',inplace=True)\n",
        "data.isnull().mean()"
      ],
      "execution_count": null,
      "outputs": [
        {
          "output_type": "execute_result",
          "data": {
            "text/plain": [
              "date    0.000000\n",
              "Load    0.000000\n",
              "AWND    0.039064\n",
              "PRCP    0.000505\n",
              "SNOW    0.000505\n",
              "TMAX    0.000505\n",
              "TMIN    0.000505\n",
              "WDF2    0.040916\n",
              "WSF2    0.040411\n",
              "WT01    0.000505\n",
              "WT02    0.000505\n",
              "WT08    0.000505\n",
              "WT13    0.000505\n",
              "WT16    0.000505\n",
              "WT18    0.000505\n",
              "WT19    0.000505\n",
              "WT22    0.000505\n",
              "dtype: float64"
            ]
          },
          "metadata": {
            "tags": []
          },
          "execution_count": 201
        }
      ]
    },
    {
      "cell_type": "code",
      "metadata": {
        "colab": {
          "base_uri": "https://localhost:8080/",
          "height": 287
        },
        "id": "SUbF2bx8Eq9Q",
        "outputId": "2fb0f8b3-de9f-4f95-f654-83d5810a47ad"
      },
      "source": [
        "data.describe()"
      ],
      "execution_count": null,
      "outputs": [
        {
          "output_type": "execute_result",
          "data": {
            "text/html": [
              "<div>\n",
              "<style scoped>\n",
              "    .dataframe tbody tr th:only-of-type {\n",
              "        vertical-align: middle;\n",
              "    }\n",
              "\n",
              "    .dataframe tbody tr th {\n",
              "        vertical-align: top;\n",
              "    }\n",
              "\n",
              "    .dataframe thead th {\n",
              "        text-align: right;\n",
              "    }\n",
              "</style>\n",
              "<table border=\"1\" class=\"dataframe\">\n",
              "  <thead>\n",
              "    <tr style=\"text-align: right;\">\n",
              "      <th></th>\n",
              "      <th>Load</th>\n",
              "      <th>AWND</th>\n",
              "      <th>PRCP</th>\n",
              "      <th>SNOW</th>\n",
              "      <th>TMAX</th>\n",
              "      <th>TMIN</th>\n",
              "      <th>WDF2</th>\n",
              "      <th>WSF2</th>\n",
              "      <th>WT01</th>\n",
              "      <th>WT02</th>\n",
              "      <th>WT08</th>\n",
              "      <th>WT13</th>\n",
              "      <th>WT16</th>\n",
              "      <th>WT18</th>\n",
              "      <th>WT19</th>\n",
              "      <th>WT22</th>\n",
              "    </tr>\n",
              "  </thead>\n",
              "  <tbody>\n",
              "    <tr>\n",
              "      <th>count</th>\n",
              "      <td>5939.000000</td>\n",
              "      <td>5707.000000</td>\n",
              "      <td>5936.000000</td>\n",
              "      <td>5936.000000</td>\n",
              "      <td>5936.000000</td>\n",
              "      <td>5936.000000</td>\n",
              "      <td>5696.000000</td>\n",
              "      <td>5699.000000</td>\n",
              "      <td>5936.000000</td>\n",
              "      <td>5936.000000</td>\n",
              "      <td>5936.000000</td>\n",
              "      <td>5936.000000</td>\n",
              "      <td>5936.000000</td>\n",
              "      <td>5936.000000</td>\n",
              "      <td>5936.000000</td>\n",
              "      <td>5936.000000</td>\n",
              "    </tr>\n",
              "    <tr>\n",
              "      <th>mean</th>\n",
              "      <td>6052.024384</td>\n",
              "      <td>24.754862</td>\n",
              "      <td>36.242419</td>\n",
              "      <td>2.297507</td>\n",
              "      <td>172.541274</td>\n",
              "      <td>93.586422</td>\n",
              "      <td>195.793188</td>\n",
              "      <td>64.399544</td>\n",
              "      <td>0.357817</td>\n",
              "      <td>0.033861</td>\n",
              "      <td>0.189522</td>\n",
              "      <td>0.174360</td>\n",
              "      <td>0.186489</td>\n",
              "      <td>0.032345</td>\n",
              "      <td>0.014319</td>\n",
              "      <td>0.006402</td>\n",
              "    </tr>\n",
              "    <tr>\n",
              "      <th>std</th>\n",
              "      <td>982.326552</td>\n",
              "      <td>11.172155</td>\n",
              "      <td>101.472963</td>\n",
              "      <td>21.027421</td>\n",
              "      <td>100.508320</td>\n",
              "      <td>91.709537</td>\n",
              "      <td>100.012640</td>\n",
              "      <td>18.204241</td>\n",
              "      <td>0.479398</td>\n",
              "      <td>0.180887</td>\n",
              "      <td>0.391955</td>\n",
              "      <td>0.379451</td>\n",
              "      <td>0.389534</td>\n",
              "      <td>0.176930</td>\n",
              "      <td>0.118814</td>\n",
              "      <td>0.079760</td>\n",
              "    </tr>\n",
              "    <tr>\n",
              "      <th>min</th>\n",
              "      <td>3662.738542</td>\n",
              "      <td>0.000000</td>\n",
              "      <td>0.000000</td>\n",
              "      <td>0.000000</td>\n",
              "      <td>-105.000000</td>\n",
              "      <td>-182.000000</td>\n",
              "      <td>0.000000</td>\n",
              "      <td>0.000000</td>\n",
              "      <td>0.000000</td>\n",
              "      <td>0.000000</td>\n",
              "      <td>0.000000</td>\n",
              "      <td>0.000000</td>\n",
              "      <td>0.000000</td>\n",
              "      <td>0.000000</td>\n",
              "      <td>0.000000</td>\n",
              "      <td>0.000000</td>\n",
              "    </tr>\n",
              "    <tr>\n",
              "      <th>25%</th>\n",
              "      <td>5440.868621</td>\n",
              "      <td>17.000000</td>\n",
              "      <td>0.000000</td>\n",
              "      <td>0.000000</td>\n",
              "      <td>89.000000</td>\n",
              "      <td>22.000000</td>\n",
              "      <td>80.000000</td>\n",
              "      <td>54.000000</td>\n",
              "      <td>0.000000</td>\n",
              "      <td>0.000000</td>\n",
              "      <td>0.000000</td>\n",
              "      <td>0.000000</td>\n",
              "      <td>0.000000</td>\n",
              "      <td>0.000000</td>\n",
              "      <td>0.000000</td>\n",
              "      <td>0.000000</td>\n",
              "    </tr>\n",
              "    <tr>\n",
              "      <th>50%</th>\n",
              "      <td>5793.049653</td>\n",
              "      <td>23.000000</td>\n",
              "      <td>0.000000</td>\n",
              "      <td>0.000000</td>\n",
              "      <td>178.000000</td>\n",
              "      <td>94.000000</td>\n",
              "      <td>230.000000</td>\n",
              "      <td>63.000000</td>\n",
              "      <td>0.000000</td>\n",
              "      <td>0.000000</td>\n",
              "      <td>0.000000</td>\n",
              "      <td>0.000000</td>\n",
              "      <td>0.000000</td>\n",
              "      <td>0.000000</td>\n",
              "      <td>0.000000</td>\n",
              "      <td>0.000000</td>\n",
              "    </tr>\n",
              "    <tr>\n",
              "      <th>75%</th>\n",
              "      <td>6414.391840</td>\n",
              "      <td>31.000000</td>\n",
              "      <td>15.000000</td>\n",
              "      <td>0.000000</td>\n",
              "      <td>261.000000</td>\n",
              "      <td>178.000000</td>\n",
              "      <td>280.000000</td>\n",
              "      <td>72.000000</td>\n",
              "      <td>1.000000</td>\n",
              "      <td>0.000000</td>\n",
              "      <td>0.000000</td>\n",
              "      <td>0.000000</td>\n",
              "      <td>0.000000</td>\n",
              "      <td>0.000000</td>\n",
              "      <td>0.000000</td>\n",
              "      <td>0.000000</td>\n",
              "    </tr>\n",
              "    <tr>\n",
              "      <th>max</th>\n",
              "      <td>10163.128819</td>\n",
              "      <td>102.000000</td>\n",
              "      <td>1923.000000</td>\n",
              "      <td>693.000000</td>\n",
              "      <td>400.000000</td>\n",
              "      <td>289.000000</td>\n",
              "      <td>360.000000</td>\n",
              "      <td>170.000000</td>\n",
              "      <td>1.000000</td>\n",
              "      <td>1.000000</td>\n",
              "      <td>1.000000</td>\n",
              "      <td>1.000000</td>\n",
              "      <td>1.000000</td>\n",
              "      <td>1.000000</td>\n",
              "      <td>1.000000</td>\n",
              "      <td>1.000000</td>\n",
              "    </tr>\n",
              "  </tbody>\n",
              "</table>\n",
              "</div>"
            ],
            "text/plain": [
              "               Load         AWND  ...         WT19         WT22\n",
              "count   5939.000000  5707.000000  ...  5936.000000  5936.000000\n",
              "mean    6052.024384    24.754862  ...     0.014319     0.006402\n",
              "std      982.326552    11.172155  ...     0.118814     0.079760\n",
              "min     3662.738542     0.000000  ...     0.000000     0.000000\n",
              "25%     5440.868621    17.000000  ...     0.000000     0.000000\n",
              "50%     5793.049653    23.000000  ...     0.000000     0.000000\n",
              "75%     6414.391840    31.000000  ...     0.000000     0.000000\n",
              "max    10163.128819   102.000000  ...     1.000000     1.000000\n",
              "\n",
              "[8 rows x 16 columns]"
            ]
          },
          "metadata": {
            "tags": []
          },
          "execution_count": 202
        }
      ]
    },
    {
      "cell_type": "code",
      "metadata": {
        "id": "fuaBrmJCMmN5"
      },
      "source": [
        "import datetime as dt\n",
        "\n",
        "data['date'] = data['date'].map(dt.datetime.toordinal)"
      ],
      "execution_count": null,
      "outputs": []
    },
    {
      "cell_type": "code",
      "metadata": {
        "id": "Ym8lRHcv9vti"
      },
      "source": [
        "from sklearn.model_selection import train_test_split\n",
        "\n",
        "X_trainval, X_test, y_trainval, y_test = train_test_split(data.drop('Load',axis=1), data.Load, test_size=0.2, random_state=0)\n",
        "\n",
        "X_train, X_val, y_train, y_val = train_test_split(X_trainval, y_trainval, test_size=0.25, random_state=0)"
      ],
      "execution_count": null,
      "outputs": []
    },
    {
      "cell_type": "code",
      "metadata": {
        "colab": {
          "base_uri": "https://localhost:8080/"
        },
        "id": "VoRdcBt69vyJ",
        "outputId": "b4e0cb88-3466-4ab9-f64e-48cbe1bc7652"
      },
      "source": [
        "print(f'Train size is {X_train.shape}' )\n",
        "print(f'Test size is {X_test.shape}' )\n",
        "print(f'Val size is {X_val.shape}' )"
      ],
      "execution_count": null,
      "outputs": [
        {
          "output_type": "stream",
          "text": [
            "Train size is (3563, 16)\n",
            "Test size is (1188, 16)\n",
            "Val size is (1188, 16)\n"
          ],
          "name": "stdout"
        }
      ]
    },
    {
      "cell_type": "code",
      "metadata": {
        "colab": {
          "base_uri": "https://localhost:8080/"
        },
        "id": "UGNsYiAm_U85",
        "outputId": "603ee909-057b-4f75-e80b-a9e3ec2f8e8f"
      },
      "source": [
        "!pip install feature-engine"
      ],
      "execution_count": null,
      "outputs": [
        {
          "output_type": "stream",
          "text": [
            "Requirement already satisfied: feature-engine in /usr/local/lib/python3.7/dist-packages (1.0.2)\n",
            "Requirement already satisfied: numpy>=1.18.2 in /usr/local/lib/python3.7/dist-packages (from feature-engine) (1.19.5)\n",
            "Requirement already satisfied: statsmodels>=0.11.1 in /usr/local/lib/python3.7/dist-packages (from feature-engine) (0.12.2)\n",
            "Requirement already satisfied: scipy>=1.4.1 in /usr/local/lib/python3.7/dist-packages (from feature-engine) (1.4.1)\n",
            "Requirement already satisfied: pandas>=1.0.3 in /usr/local/lib/python3.7/dist-packages (from feature-engine) (1.1.5)\n",
            "Requirement already satisfied: scikit-learn>=0.22.2 in /usr/local/lib/python3.7/dist-packages (from feature-engine) (0.22.2.post1)\n",
            "Requirement already satisfied: patsy>=0.5 in /usr/local/lib/python3.7/dist-packages (from statsmodels>=0.11.1->feature-engine) (0.5.1)\n",
            "Requirement already satisfied: pytz>=2017.2 in /usr/local/lib/python3.7/dist-packages (from pandas>=1.0.3->feature-engine) (2018.9)\n",
            "Requirement already satisfied: python-dateutil>=2.7.3 in /usr/local/lib/python3.7/dist-packages (from pandas>=1.0.3->feature-engine) (2.8.1)\n",
            "Requirement already satisfied: joblib>=0.11 in /usr/local/lib/python3.7/dist-packages (from scikit-learn>=0.22.2->feature-engine) (1.0.1)\n",
            "Requirement already satisfied: six in /usr/local/lib/python3.7/dist-packages (from patsy>=0.5->statsmodels>=0.11.1->feature-engine) (1.15.0)\n"
          ],
          "name": "stdout"
        }
      ]
    },
    {
      "cell_type": "code",
      "metadata": {
        "id": "bqpgT_QgBAep"
      },
      "source": [
        "from feature_engine.imputation import MeanMedianImputer as mdi \n",
        "from feature_engine.imputation import CategoricalImputer, RandomSampleImputer\n",
        "\n",
        "from sklearn.pipeline import Pipeline\n",
        "from sklearn.preprocessing import RobustScaler, StandardScaler, MinMaxScaler, OneHotEncoder\n",
        "\n",
        "from sklearn.model_selection import GridSearchCV, cross_val_score\n"
      ],
      "execution_count": null,
      "outputs": []
    },
    {
      "cell_type": "code",
      "metadata": {
        "id": "6egHRknp_E02"
      },
      "source": [
        "load_pipeline = Pipeline([\n",
        "    \n",
        "    # missing data imputation \n",
        "    ('imputer_num',\n",
        "    mdi(variables=['AWND'\t,'PRCP','SNOW',\t'TMAX',\t'TMIN',\t'WDF2',\t'WSF2'])),    \n",
        "  \n",
        "    ('imputer_cat',\n",
        "     RandomSampleImputer(variables=['WT01' , 'WT02' , 'WT08' , 'WT13' , 'WT16' , 'WT18' , 'WT19' , 'WT22'])),           \n",
        "     \n",
        "    \n",
        "    #categorical encoding\n",
        "  \n",
        "\n",
        "    #numerical encoding       \n",
        "    \n",
        "    # feature Scaling\n",
        "    \n",
        " #  ('scaler', StandardScaler()),\n",
        " \n",
        "\n",
        "\n",
        "])"
      ],
      "execution_count": null,
      "outputs": []
    },
    {
      "cell_type": "code",
      "metadata": {
        "colab": {
          "base_uri": "https://localhost:8080/"
        },
        "id": "rDJj-8pf_FAI",
        "outputId": "83f17b6a-7e70-4151-886a-215ab8a99936"
      },
      "source": [
        "load_pipeline.fit(X_train)"
      ],
      "execution_count": null,
      "outputs": [
        {
          "output_type": "execute_result",
          "data": {
            "text/plain": [
              "Pipeline(memory=None,\n",
              "         steps=[('imputer_num',\n",
              "                 MeanMedianImputer(imputation_method='median',\n",
              "                                   variables=['AWND', 'PRCP', 'SNOW', 'TMAX',\n",
              "                                              'TMIN', 'WDF2', 'WSF2'])),\n",
              "                ('imputer_cat',\n",
              "                 RandomSampleImputer(random_state=None, seed='general',\n",
              "                                     seeding_method='add',\n",
              "                                     variables=['WT01', 'WT02', 'WT08', 'WT13',\n",
              "                                                'WT16', 'WT18', 'WT19',\n",
              "                                                'WT22']))],\n",
              "         verbose=False)"
            ]
          },
          "metadata": {
            "tags": []
          },
          "execution_count": 228
        }
      ]
    },
    {
      "cell_type": "code",
      "metadata": {
        "id": "4LsfppQI_FNM"
      },
      "source": [
        "X_train=pd.DataFrame(load_pipeline.transform(X_train),columns=X_train.columns)\n",
        "X_test=pd.DataFrame(load_pipeline.transform(X_test),columns=X_test.columns)\n",
        "X_val=pd.DataFrame(load_pipeline.transform(X_val),columns=X_val.columns)"
      ],
      "execution_count": null,
      "outputs": []
    },
    {
      "cell_type": "markdown",
      "metadata": {
        "id": "kzi3Vd_cVw9H"
      },
      "source": [
        "# Regression models"
      ]
    },
    {
      "cell_type": "code",
      "metadata": {
        "colab": {
          "base_uri": "https://localhost:8080/"
        },
        "id": "RbaqHbhy_FS5",
        "outputId": "7e70115e-3a3d-4b60-fed9-f5b2db00189f"
      },
      "source": [
        "#Linear regression\n",
        "\n",
        "from sklearn.linear_model import LinearRegression\n",
        "\n",
        "lr = LinearRegression().fit(X_train, y_train)\n",
        "\n",
        "scores = cross_val_score(lr, X_train, y_train)\n",
        "\n",
        "print(\"LR Cross-validation scores: {}\".format(scores))\n",
        "print(\"LR Average cross-validation score: {:.4f}\".format(scores.mean()))\n",
        "print(\"LR train performance:\", lr.score(X_train,y_train))\n",
        "print(\"LR test performance:\", lr.score(X_test,y_test))"
      ],
      "execution_count": null,
      "outputs": [
        {
          "output_type": "stream",
          "text": [
            "LR Cross-validation scores: [0.4071612  0.41548503 0.39298808 0.35678866 0.40412788]\n",
            "LR Average cross-validation score: 0.3953\n",
            "LR train performance: 0.4007161052587508\n",
            "LR test performance: 0.3615391303134853\n"
          ],
          "name": "stdout"
        }
      ]
    },
    {
      "cell_type": "code",
      "metadata": {
        "colab": {
          "base_uri": "https://localhost:8080/"
        },
        "id": "M2YluVqZLkGE",
        "outputId": "831fe2b5-eabb-4f76-d51f-68fbd72085b9"
      },
      "source": [
        "# Ridge regression model\n",
        "from sklearn.linear_model import Ridge\n",
        "ridge = Ridge()\n",
        "#List of parameters\n",
        "param_ridge = {'alpha':[0.001, 0.01, 0.1, 1, 10, 100,1000]}\n",
        "grid_ridge = GridSearchCV(ridge, param_ridge, cv=10, return_train_score = True)\n",
        "grid_ridge.fit(X_train, y_train)\n",
        "# Mean Cross Validation Score\n",
        "print(\"Best Mean Cross-validation score: {:.3f}\".format(grid_ridge.best_score_))\n",
        "print()\n",
        "#best parameters\n",
        "print('Ridge parameters: ', grid_ridge.best_params_)\n",
        "# Check train and test data set performance\n",
        "print(\"Ridge Train Performance: \", grid_ridge.score(X_train, y_train))\n",
        "print(\"Ridge Test Performance: \", grid_ridge.score(X_test,y_test))\n"
      ],
      "execution_count": null,
      "outputs": [
        {
          "output_type": "stream",
          "text": [
            "Best Mean Cross-validation score: 0.386\n",
            "\n",
            "Ridge parameters:  {'alpha': 1}\n",
            "Ridge Train Performance:  0.40071179375467925\n",
            "Ridge Test Performance:  0.3615746207941982\n"
          ],
          "name": "stdout"
        }
      ]
    },
    {
      "cell_type": "code",
      "metadata": {
        "id": "RsLaRzbQOJrj"
      },
      "source": [
        "from xgboost import XGBClassifier\n"
      ],
      "execution_count": null,
      "outputs": []
    },
    {
      "cell_type": "code",
      "metadata": {
        "colab": {
          "base_uri": "https://localhost:8080/",
          "height": 352
        },
        "id": "znM7s-L7Ovpa",
        "outputId": "156be99f-280a-432c-be76-796f241a92b0"
      },
      "source": [
        "from  xgboost import XGBClassifier\n",
        "xgbc= XGBClassifier(random_state=42,early_stopping_rounds=2,objective= 'binary:logistic')\n",
        "xgbc_param = {\n",
        "              'max_depth' : [2,4,6],\n",
        "              'n_estimators' : [50,100,150],\n",
        "              'learning_rate' : [0.1,0.5,0.8],\n",
        "               'min_child_weight' : [1,3,5,7],\n",
        "                'subsample':[0.6,0.7,0.8,0.9,1]\n",
        "             }\n",
        "xgbc_grid = GridSearchCV(xgbc, xgbc_param,cv=5, return_train_score=True,scoring='roc_auc' )\n",
        "xgbc_grid.fit(X_train,y_train)"
      ],
      "execution_count": null,
      "outputs": [
        {
          "output_type": "error",
          "ename": "KeyboardInterrupt",
          "evalue": "ignored",
          "traceback": [
            "\u001b[0;31m---------------------------------------------------------------------------\u001b[0m",
            "\u001b[0;31mKeyboardInterrupt\u001b[0m                         Traceback (most recent call last)",
            "\u001b[0;32m<ipython-input-239-d5fdb9e4227a>\u001b[0m in \u001b[0;36m<module>\u001b[0;34m()\u001b[0m\n\u001b[1;32m      9\u001b[0m              }\n\u001b[1;32m     10\u001b[0m \u001b[0mxgbc_grid\u001b[0m \u001b[0;34m=\u001b[0m \u001b[0mGridSearchCV\u001b[0m\u001b[0;34m(\u001b[0m\u001b[0mxgbc\u001b[0m\u001b[0;34m,\u001b[0m \u001b[0mxgbc_param\u001b[0m\u001b[0;34m,\u001b[0m\u001b[0mcv\u001b[0m\u001b[0;34m=\u001b[0m\u001b[0;36m5\u001b[0m\u001b[0;34m,\u001b[0m \u001b[0mreturn_train_score\u001b[0m\u001b[0;34m=\u001b[0m\u001b[0;32mTrue\u001b[0m\u001b[0;34m,\u001b[0m\u001b[0mscoring\u001b[0m\u001b[0;34m=\u001b[0m\u001b[0;34m'roc_auc'\u001b[0m \u001b[0;34m)\u001b[0m\u001b[0;34m\u001b[0m\u001b[0;34m\u001b[0m\u001b[0m\n\u001b[0;32m---> 11\u001b[0;31m \u001b[0mxgbc_grid\u001b[0m\u001b[0;34m.\u001b[0m\u001b[0mfit\u001b[0m\u001b[0;34m(\u001b[0m\u001b[0mX_train\u001b[0m\u001b[0;34m,\u001b[0m\u001b[0my_train\u001b[0m\u001b[0;34m)\u001b[0m\u001b[0;34m\u001b[0m\u001b[0;34m\u001b[0m\u001b[0m\n\u001b[0m",
            "\u001b[0;32m/usr/local/lib/python3.7/dist-packages/sklearn/model_selection/_search.py\u001b[0m in \u001b[0;36mfit\u001b[0;34m(self, X, y, groups, **fit_params)\u001b[0m\n\u001b[1;32m    708\u001b[0m                 \u001b[0;32mreturn\u001b[0m \u001b[0mresults\u001b[0m\u001b[0;34m\u001b[0m\u001b[0;34m\u001b[0m\u001b[0m\n\u001b[1;32m    709\u001b[0m \u001b[0;34m\u001b[0m\u001b[0m\n\u001b[0;32m--> 710\u001b[0;31m             \u001b[0mself\u001b[0m\u001b[0;34m.\u001b[0m\u001b[0m_run_search\u001b[0m\u001b[0;34m(\u001b[0m\u001b[0mevaluate_candidates\u001b[0m\u001b[0;34m)\u001b[0m\u001b[0;34m\u001b[0m\u001b[0;34m\u001b[0m\u001b[0m\n\u001b[0m\u001b[1;32m    711\u001b[0m \u001b[0;34m\u001b[0m\u001b[0m\n\u001b[1;32m    712\u001b[0m         \u001b[0;31m# For multi-metric evaluation, store the best_index_, best_params_ and\u001b[0m\u001b[0;34m\u001b[0m\u001b[0;34m\u001b[0m\u001b[0;34m\u001b[0m\u001b[0m\n",
            "\u001b[0;32m/usr/local/lib/python3.7/dist-packages/sklearn/model_selection/_search.py\u001b[0m in \u001b[0;36m_run_search\u001b[0;34m(self, evaluate_candidates)\u001b[0m\n\u001b[1;32m   1149\u001b[0m     \u001b[0;32mdef\u001b[0m \u001b[0m_run_search\u001b[0m\u001b[0;34m(\u001b[0m\u001b[0mself\u001b[0m\u001b[0;34m,\u001b[0m \u001b[0mevaluate_candidates\u001b[0m\u001b[0;34m)\u001b[0m\u001b[0;34m:\u001b[0m\u001b[0;34m\u001b[0m\u001b[0;34m\u001b[0m\u001b[0m\n\u001b[1;32m   1150\u001b[0m         \u001b[0;34m\"\"\"Search all candidates in param_grid\"\"\"\u001b[0m\u001b[0;34m\u001b[0m\u001b[0;34m\u001b[0m\u001b[0m\n\u001b[0;32m-> 1151\u001b[0;31m         \u001b[0mevaluate_candidates\u001b[0m\u001b[0;34m(\u001b[0m\u001b[0mParameterGrid\u001b[0m\u001b[0;34m(\u001b[0m\u001b[0mself\u001b[0m\u001b[0;34m.\u001b[0m\u001b[0mparam_grid\u001b[0m\u001b[0;34m)\u001b[0m\u001b[0;34m)\u001b[0m\u001b[0;34m\u001b[0m\u001b[0;34m\u001b[0m\u001b[0m\n\u001b[0m\u001b[1;32m   1152\u001b[0m \u001b[0;34m\u001b[0m\u001b[0m\n\u001b[1;32m   1153\u001b[0m \u001b[0;34m\u001b[0m\u001b[0m\n",
            "\u001b[0;32m/usr/local/lib/python3.7/dist-packages/sklearn/model_selection/_search.py\u001b[0m in \u001b[0;36mevaluate_candidates\u001b[0;34m(candidate_params)\u001b[0m\n\u001b[1;32m    687\u001b[0m                                \u001b[0;32mfor\u001b[0m \u001b[0mparameters\u001b[0m\u001b[0;34m,\u001b[0m \u001b[0;34m(\u001b[0m\u001b[0mtrain\u001b[0m\u001b[0;34m,\u001b[0m \u001b[0mtest\u001b[0m\u001b[0;34m)\u001b[0m\u001b[0;34m\u001b[0m\u001b[0;34m\u001b[0m\u001b[0m\n\u001b[1;32m    688\u001b[0m                                in product(candidate_params,\n\u001b[0;32m--> 689\u001b[0;31m                                           cv.split(X, y, groups)))\n\u001b[0m\u001b[1;32m    690\u001b[0m \u001b[0;34m\u001b[0m\u001b[0m\n\u001b[1;32m    691\u001b[0m                 \u001b[0;32mif\u001b[0m \u001b[0mlen\u001b[0m\u001b[0;34m(\u001b[0m\u001b[0mout\u001b[0m\u001b[0;34m)\u001b[0m \u001b[0;34m<\u001b[0m \u001b[0;36m1\u001b[0m\u001b[0;34m:\u001b[0m\u001b[0;34m\u001b[0m\u001b[0;34m\u001b[0m\u001b[0m\n",
            "\u001b[0;32m/usr/local/lib/python3.7/dist-packages/joblib/parallel.py\u001b[0m in \u001b[0;36m__call__\u001b[0;34m(self, iterable)\u001b[0m\n\u001b[1;32m   1039\u001b[0m             \u001b[0;31m# remaining jobs.\u001b[0m\u001b[0;34m\u001b[0m\u001b[0;34m\u001b[0m\u001b[0;34m\u001b[0m\u001b[0m\n\u001b[1;32m   1040\u001b[0m             \u001b[0mself\u001b[0m\u001b[0;34m.\u001b[0m\u001b[0m_iterating\u001b[0m \u001b[0;34m=\u001b[0m \u001b[0;32mFalse\u001b[0m\u001b[0;34m\u001b[0m\u001b[0;34m\u001b[0m\u001b[0m\n\u001b[0;32m-> 1041\u001b[0;31m             \u001b[0;32mif\u001b[0m \u001b[0mself\u001b[0m\u001b[0;34m.\u001b[0m\u001b[0mdispatch_one_batch\u001b[0m\u001b[0;34m(\u001b[0m\u001b[0miterator\u001b[0m\u001b[0;34m)\u001b[0m\u001b[0;34m:\u001b[0m\u001b[0;34m\u001b[0m\u001b[0;34m\u001b[0m\u001b[0m\n\u001b[0m\u001b[1;32m   1042\u001b[0m                 \u001b[0mself\u001b[0m\u001b[0;34m.\u001b[0m\u001b[0m_iterating\u001b[0m \u001b[0;34m=\u001b[0m \u001b[0mself\u001b[0m\u001b[0;34m.\u001b[0m\u001b[0m_original_iterator\u001b[0m \u001b[0;32mis\u001b[0m \u001b[0;32mnot\u001b[0m \u001b[0;32mNone\u001b[0m\u001b[0;34m\u001b[0m\u001b[0;34m\u001b[0m\u001b[0m\n\u001b[1;32m   1043\u001b[0m \u001b[0;34m\u001b[0m\u001b[0m\n",
            "\u001b[0;32m/usr/local/lib/python3.7/dist-packages/joblib/parallel.py\u001b[0m in \u001b[0;36mdispatch_one_batch\u001b[0;34m(self, iterator)\u001b[0m\n\u001b[1;32m    857\u001b[0m                 \u001b[0;32mreturn\u001b[0m \u001b[0;32mFalse\u001b[0m\u001b[0;34m\u001b[0m\u001b[0;34m\u001b[0m\u001b[0m\n\u001b[1;32m    858\u001b[0m             \u001b[0;32melse\u001b[0m\u001b[0;34m:\u001b[0m\u001b[0;34m\u001b[0m\u001b[0;34m\u001b[0m\u001b[0m\n\u001b[0;32m--> 859\u001b[0;31m                 \u001b[0mself\u001b[0m\u001b[0;34m.\u001b[0m\u001b[0m_dispatch\u001b[0m\u001b[0;34m(\u001b[0m\u001b[0mtasks\u001b[0m\u001b[0;34m)\u001b[0m\u001b[0;34m\u001b[0m\u001b[0;34m\u001b[0m\u001b[0m\n\u001b[0m\u001b[1;32m    860\u001b[0m                 \u001b[0;32mreturn\u001b[0m \u001b[0;32mTrue\u001b[0m\u001b[0;34m\u001b[0m\u001b[0;34m\u001b[0m\u001b[0m\n\u001b[1;32m    861\u001b[0m \u001b[0;34m\u001b[0m\u001b[0m\n",
            "\u001b[0;32m/usr/local/lib/python3.7/dist-packages/joblib/parallel.py\u001b[0m in \u001b[0;36m_dispatch\u001b[0;34m(self, batch)\u001b[0m\n\u001b[1;32m    775\u001b[0m         \u001b[0;32mwith\u001b[0m \u001b[0mself\u001b[0m\u001b[0;34m.\u001b[0m\u001b[0m_lock\u001b[0m\u001b[0;34m:\u001b[0m\u001b[0;34m\u001b[0m\u001b[0;34m\u001b[0m\u001b[0m\n\u001b[1;32m    776\u001b[0m             \u001b[0mjob_idx\u001b[0m \u001b[0;34m=\u001b[0m \u001b[0mlen\u001b[0m\u001b[0;34m(\u001b[0m\u001b[0mself\u001b[0m\u001b[0;34m.\u001b[0m\u001b[0m_jobs\u001b[0m\u001b[0;34m)\u001b[0m\u001b[0;34m\u001b[0m\u001b[0;34m\u001b[0m\u001b[0m\n\u001b[0;32m--> 777\u001b[0;31m             \u001b[0mjob\u001b[0m \u001b[0;34m=\u001b[0m \u001b[0mself\u001b[0m\u001b[0;34m.\u001b[0m\u001b[0m_backend\u001b[0m\u001b[0;34m.\u001b[0m\u001b[0mapply_async\u001b[0m\u001b[0;34m(\u001b[0m\u001b[0mbatch\u001b[0m\u001b[0;34m,\u001b[0m \u001b[0mcallback\u001b[0m\u001b[0;34m=\u001b[0m\u001b[0mcb\u001b[0m\u001b[0;34m)\u001b[0m\u001b[0;34m\u001b[0m\u001b[0;34m\u001b[0m\u001b[0m\n\u001b[0m\u001b[1;32m    778\u001b[0m             \u001b[0;31m# A job can complete so quickly than its callback is\u001b[0m\u001b[0;34m\u001b[0m\u001b[0;34m\u001b[0m\u001b[0;34m\u001b[0m\u001b[0m\n\u001b[1;32m    779\u001b[0m             \u001b[0;31m# called before we get here, causing self._jobs to\u001b[0m\u001b[0;34m\u001b[0m\u001b[0;34m\u001b[0m\u001b[0;34m\u001b[0m\u001b[0m\n",
            "\u001b[0;32m/usr/local/lib/python3.7/dist-packages/joblib/_parallel_backends.py\u001b[0m in \u001b[0;36mapply_async\u001b[0;34m(self, func, callback)\u001b[0m\n\u001b[1;32m    206\u001b[0m     \u001b[0;32mdef\u001b[0m \u001b[0mapply_async\u001b[0m\u001b[0;34m(\u001b[0m\u001b[0mself\u001b[0m\u001b[0;34m,\u001b[0m \u001b[0mfunc\u001b[0m\u001b[0;34m,\u001b[0m \u001b[0mcallback\u001b[0m\u001b[0;34m=\u001b[0m\u001b[0;32mNone\u001b[0m\u001b[0;34m)\u001b[0m\u001b[0;34m:\u001b[0m\u001b[0;34m\u001b[0m\u001b[0;34m\u001b[0m\u001b[0m\n\u001b[1;32m    207\u001b[0m         \u001b[0;34m\"\"\"Schedule a func to be run\"\"\"\u001b[0m\u001b[0;34m\u001b[0m\u001b[0;34m\u001b[0m\u001b[0m\n\u001b[0;32m--> 208\u001b[0;31m         \u001b[0mresult\u001b[0m \u001b[0;34m=\u001b[0m \u001b[0mImmediateResult\u001b[0m\u001b[0;34m(\u001b[0m\u001b[0mfunc\u001b[0m\u001b[0;34m)\u001b[0m\u001b[0;34m\u001b[0m\u001b[0;34m\u001b[0m\u001b[0m\n\u001b[0m\u001b[1;32m    209\u001b[0m         \u001b[0;32mif\u001b[0m \u001b[0mcallback\u001b[0m\u001b[0;34m:\u001b[0m\u001b[0;34m\u001b[0m\u001b[0;34m\u001b[0m\u001b[0m\n\u001b[1;32m    210\u001b[0m             \u001b[0mcallback\u001b[0m\u001b[0;34m(\u001b[0m\u001b[0mresult\u001b[0m\u001b[0;34m)\u001b[0m\u001b[0;34m\u001b[0m\u001b[0;34m\u001b[0m\u001b[0m\n",
            "\u001b[0;32m/usr/local/lib/python3.7/dist-packages/joblib/_parallel_backends.py\u001b[0m in \u001b[0;36m__init__\u001b[0;34m(self, batch)\u001b[0m\n\u001b[1;32m    570\u001b[0m         \u001b[0;31m# Don't delay the application, to avoid keeping the input\u001b[0m\u001b[0;34m\u001b[0m\u001b[0;34m\u001b[0m\u001b[0;34m\u001b[0m\u001b[0m\n\u001b[1;32m    571\u001b[0m         \u001b[0;31m# arguments in memory\u001b[0m\u001b[0;34m\u001b[0m\u001b[0;34m\u001b[0m\u001b[0;34m\u001b[0m\u001b[0m\n\u001b[0;32m--> 572\u001b[0;31m         \u001b[0mself\u001b[0m\u001b[0;34m.\u001b[0m\u001b[0mresults\u001b[0m \u001b[0;34m=\u001b[0m \u001b[0mbatch\u001b[0m\u001b[0;34m(\u001b[0m\u001b[0;34m)\u001b[0m\u001b[0;34m\u001b[0m\u001b[0;34m\u001b[0m\u001b[0m\n\u001b[0m\u001b[1;32m    573\u001b[0m \u001b[0;34m\u001b[0m\u001b[0m\n\u001b[1;32m    574\u001b[0m     \u001b[0;32mdef\u001b[0m \u001b[0mget\u001b[0m\u001b[0;34m(\u001b[0m\u001b[0mself\u001b[0m\u001b[0;34m)\u001b[0m\u001b[0;34m:\u001b[0m\u001b[0;34m\u001b[0m\u001b[0;34m\u001b[0m\u001b[0m\n",
            "\u001b[0;32m/usr/local/lib/python3.7/dist-packages/joblib/parallel.py\u001b[0m in \u001b[0;36m__call__\u001b[0;34m(self)\u001b[0m\n\u001b[1;32m    261\u001b[0m         \u001b[0;32mwith\u001b[0m \u001b[0mparallel_backend\u001b[0m\u001b[0;34m(\u001b[0m\u001b[0mself\u001b[0m\u001b[0;34m.\u001b[0m\u001b[0m_backend\u001b[0m\u001b[0;34m,\u001b[0m \u001b[0mn_jobs\u001b[0m\u001b[0;34m=\u001b[0m\u001b[0mself\u001b[0m\u001b[0;34m.\u001b[0m\u001b[0m_n_jobs\u001b[0m\u001b[0;34m)\u001b[0m\u001b[0;34m:\u001b[0m\u001b[0;34m\u001b[0m\u001b[0;34m\u001b[0m\u001b[0m\n\u001b[1;32m    262\u001b[0m             return [func(*args, **kwargs)\n\u001b[0;32m--> 263\u001b[0;31m                     for func, args, kwargs in self.items]\n\u001b[0m\u001b[1;32m    264\u001b[0m \u001b[0;34m\u001b[0m\u001b[0m\n\u001b[1;32m    265\u001b[0m     \u001b[0;32mdef\u001b[0m \u001b[0m__reduce__\u001b[0m\u001b[0;34m(\u001b[0m\u001b[0mself\u001b[0m\u001b[0;34m)\u001b[0m\u001b[0;34m:\u001b[0m\u001b[0;34m\u001b[0m\u001b[0;34m\u001b[0m\u001b[0m\n",
            "\u001b[0;32m/usr/local/lib/python3.7/dist-packages/joblib/parallel.py\u001b[0m in \u001b[0;36m<listcomp>\u001b[0;34m(.0)\u001b[0m\n\u001b[1;32m    261\u001b[0m         \u001b[0;32mwith\u001b[0m \u001b[0mparallel_backend\u001b[0m\u001b[0;34m(\u001b[0m\u001b[0mself\u001b[0m\u001b[0;34m.\u001b[0m\u001b[0m_backend\u001b[0m\u001b[0;34m,\u001b[0m \u001b[0mn_jobs\u001b[0m\u001b[0;34m=\u001b[0m\u001b[0mself\u001b[0m\u001b[0;34m.\u001b[0m\u001b[0m_n_jobs\u001b[0m\u001b[0;34m)\u001b[0m\u001b[0;34m:\u001b[0m\u001b[0;34m\u001b[0m\u001b[0;34m\u001b[0m\u001b[0m\n\u001b[1;32m    262\u001b[0m             return [func(*args, **kwargs)\n\u001b[0;32m--> 263\u001b[0;31m                     for func, args, kwargs in self.items]\n\u001b[0m\u001b[1;32m    264\u001b[0m \u001b[0;34m\u001b[0m\u001b[0m\n\u001b[1;32m    265\u001b[0m     \u001b[0;32mdef\u001b[0m \u001b[0m__reduce__\u001b[0m\u001b[0;34m(\u001b[0m\u001b[0mself\u001b[0m\u001b[0;34m)\u001b[0m\u001b[0;34m:\u001b[0m\u001b[0;34m\u001b[0m\u001b[0;34m\u001b[0m\u001b[0m\n",
            "\u001b[0;32m/usr/local/lib/python3.7/dist-packages/sklearn/model_selection/_validation.py\u001b[0m in \u001b[0;36m_fit_and_score\u001b[0;34m(estimator, X, y, scorer, train, test, verbose, parameters, fit_params, return_train_score, return_parameters, return_n_test_samples, return_times, return_estimator, error_score)\u001b[0m\n\u001b[1;32m    513\u001b[0m             \u001b[0mestimator\u001b[0m\u001b[0;34m.\u001b[0m\u001b[0mfit\u001b[0m\u001b[0;34m(\u001b[0m\u001b[0mX_train\u001b[0m\u001b[0;34m,\u001b[0m \u001b[0;34m**\u001b[0m\u001b[0mfit_params\u001b[0m\u001b[0;34m)\u001b[0m\u001b[0;34m\u001b[0m\u001b[0;34m\u001b[0m\u001b[0m\n\u001b[1;32m    514\u001b[0m         \u001b[0;32melse\u001b[0m\u001b[0;34m:\u001b[0m\u001b[0;34m\u001b[0m\u001b[0;34m\u001b[0m\u001b[0m\n\u001b[0;32m--> 515\u001b[0;31m             \u001b[0mestimator\u001b[0m\u001b[0;34m.\u001b[0m\u001b[0mfit\u001b[0m\u001b[0;34m(\u001b[0m\u001b[0mX_train\u001b[0m\u001b[0;34m,\u001b[0m \u001b[0my_train\u001b[0m\u001b[0;34m,\u001b[0m \u001b[0;34m**\u001b[0m\u001b[0mfit_params\u001b[0m\u001b[0;34m)\u001b[0m\u001b[0;34m\u001b[0m\u001b[0;34m\u001b[0m\u001b[0m\n\u001b[0m\u001b[1;32m    516\u001b[0m \u001b[0;34m\u001b[0m\u001b[0m\n\u001b[1;32m    517\u001b[0m     \u001b[0;32mexcept\u001b[0m \u001b[0mException\u001b[0m \u001b[0;32mas\u001b[0m \u001b[0me\u001b[0m\u001b[0;34m:\u001b[0m\u001b[0;34m\u001b[0m\u001b[0;34m\u001b[0m\u001b[0m\n",
            "\u001b[0;32m/usr/local/lib/python3.7/dist-packages/xgboost/sklearn.py\u001b[0m in \u001b[0;36mfit\u001b[0;34m(self, X, y, sample_weight, eval_set, eval_metric, early_stopping_rounds, verbose, xgb_model, sample_weight_eval_set, callbacks)\u001b[0m\n\u001b[1;32m    730\u001b[0m                               \u001b[0mevals_result\u001b[0m\u001b[0;34m=\u001b[0m\u001b[0mevals_result\u001b[0m\u001b[0;34m,\u001b[0m \u001b[0mobj\u001b[0m\u001b[0;34m=\u001b[0m\u001b[0mobj\u001b[0m\u001b[0;34m,\u001b[0m \u001b[0mfeval\u001b[0m\u001b[0;34m=\u001b[0m\u001b[0mfeval\u001b[0m\u001b[0;34m,\u001b[0m\u001b[0;34m\u001b[0m\u001b[0;34m\u001b[0m\u001b[0m\n\u001b[1;32m    731\u001b[0m                               \u001b[0mverbose_eval\u001b[0m\u001b[0;34m=\u001b[0m\u001b[0mverbose\u001b[0m\u001b[0;34m,\u001b[0m \u001b[0mxgb_model\u001b[0m\u001b[0;34m=\u001b[0m\u001b[0mxgb_model\u001b[0m\u001b[0;34m,\u001b[0m\u001b[0;34m\u001b[0m\u001b[0;34m\u001b[0m\u001b[0m\n\u001b[0;32m--> 732\u001b[0;31m                               callbacks=callbacks)\n\u001b[0m\u001b[1;32m    733\u001b[0m \u001b[0;34m\u001b[0m\u001b[0m\n\u001b[1;32m    734\u001b[0m         \u001b[0mself\u001b[0m\u001b[0;34m.\u001b[0m\u001b[0mobjective\u001b[0m \u001b[0;34m=\u001b[0m \u001b[0mxgb_options\u001b[0m\u001b[0;34m[\u001b[0m\u001b[0;34m\"objective\"\u001b[0m\u001b[0;34m]\u001b[0m\u001b[0;34m\u001b[0m\u001b[0;34m\u001b[0m\u001b[0m\n",
            "\u001b[0;32m/usr/local/lib/python3.7/dist-packages/xgboost/training.py\u001b[0m in \u001b[0;36mtrain\u001b[0;34m(params, dtrain, num_boost_round, evals, obj, feval, maximize, early_stopping_rounds, evals_result, verbose_eval, xgb_model, callbacks, learning_rates)\u001b[0m\n\u001b[1;32m    214\u001b[0m                            \u001b[0mevals\u001b[0m\u001b[0;34m=\u001b[0m\u001b[0mevals\u001b[0m\u001b[0;34m,\u001b[0m\u001b[0;34m\u001b[0m\u001b[0;34m\u001b[0m\u001b[0m\n\u001b[1;32m    215\u001b[0m                            \u001b[0mobj\u001b[0m\u001b[0;34m=\u001b[0m\u001b[0mobj\u001b[0m\u001b[0;34m,\u001b[0m \u001b[0mfeval\u001b[0m\u001b[0;34m=\u001b[0m\u001b[0mfeval\u001b[0m\u001b[0;34m,\u001b[0m\u001b[0;34m\u001b[0m\u001b[0;34m\u001b[0m\u001b[0m\n\u001b[0;32m--> 216\u001b[0;31m                            xgb_model=xgb_model, callbacks=callbacks)\n\u001b[0m\u001b[1;32m    217\u001b[0m \u001b[0;34m\u001b[0m\u001b[0m\n\u001b[1;32m    218\u001b[0m \u001b[0;34m\u001b[0m\u001b[0m\n",
            "\u001b[0;32m/usr/local/lib/python3.7/dist-packages/xgboost/training.py\u001b[0m in \u001b[0;36m_train_internal\u001b[0;34m(params, dtrain, num_boost_round, evals, obj, feval, xgb_model, callbacks)\u001b[0m\n\u001b[1;32m     72\u001b[0m         \u001b[0;31m# Skip the first update if it is a recovery step.\u001b[0m\u001b[0;34m\u001b[0m\u001b[0;34m\u001b[0m\u001b[0;34m\u001b[0m\u001b[0m\n\u001b[1;32m     73\u001b[0m         \u001b[0;32mif\u001b[0m \u001b[0mversion\u001b[0m \u001b[0;34m%\u001b[0m \u001b[0;36m2\u001b[0m \u001b[0;34m==\u001b[0m \u001b[0;36m0\u001b[0m\u001b[0;34m:\u001b[0m\u001b[0;34m\u001b[0m\u001b[0;34m\u001b[0m\u001b[0m\n\u001b[0;32m---> 74\u001b[0;31m             \u001b[0mbst\u001b[0m\u001b[0;34m.\u001b[0m\u001b[0mupdate\u001b[0m\u001b[0;34m(\u001b[0m\u001b[0mdtrain\u001b[0m\u001b[0;34m,\u001b[0m \u001b[0mi\u001b[0m\u001b[0;34m,\u001b[0m \u001b[0mobj\u001b[0m\u001b[0;34m)\u001b[0m\u001b[0;34m\u001b[0m\u001b[0;34m\u001b[0m\u001b[0m\n\u001b[0m\u001b[1;32m     75\u001b[0m             \u001b[0mbst\u001b[0m\u001b[0;34m.\u001b[0m\u001b[0msave_rabit_checkpoint\u001b[0m\u001b[0;34m(\u001b[0m\u001b[0;34m)\u001b[0m\u001b[0;34m\u001b[0m\u001b[0;34m\u001b[0m\u001b[0m\n\u001b[1;32m     76\u001b[0m             \u001b[0mversion\u001b[0m \u001b[0;34m+=\u001b[0m \u001b[0;36m1\u001b[0m\u001b[0;34m\u001b[0m\u001b[0;34m\u001b[0m\u001b[0m\n",
            "\u001b[0;32m/usr/local/lib/python3.7/dist-packages/xgboost/core.py\u001b[0m in \u001b[0;36mupdate\u001b[0;34m(self, dtrain, iteration, fobj)\u001b[0m\n\u001b[1;32m   1107\u001b[0m         \u001b[0;32mif\u001b[0m \u001b[0mfobj\u001b[0m \u001b[0;32mis\u001b[0m \u001b[0;32mNone\u001b[0m\u001b[0;34m:\u001b[0m\u001b[0;34m\u001b[0m\u001b[0;34m\u001b[0m\u001b[0m\n\u001b[1;32m   1108\u001b[0m             _check_call(_LIB.XGBoosterUpdateOneIter(self.handle, ctypes.c_int(iteration),\n\u001b[0;32m-> 1109\u001b[0;31m                                                     dtrain.handle))\n\u001b[0m\u001b[1;32m   1110\u001b[0m         \u001b[0;32melse\u001b[0m\u001b[0;34m:\u001b[0m\u001b[0;34m\u001b[0m\u001b[0;34m\u001b[0m\u001b[0m\n\u001b[1;32m   1111\u001b[0m             \u001b[0mpred\u001b[0m \u001b[0;34m=\u001b[0m \u001b[0mself\u001b[0m\u001b[0;34m.\u001b[0m\u001b[0mpredict\u001b[0m\u001b[0;34m(\u001b[0m\u001b[0mdtrain\u001b[0m\u001b[0;34m)\u001b[0m\u001b[0;34m\u001b[0m\u001b[0;34m\u001b[0m\u001b[0m\n",
            "\u001b[0;31mKeyboardInterrupt\u001b[0m: "
          ]
        }
      ]
    },
    {
      "cell_type": "code",
      "metadata": {
        "colab": {
          "base_uri": "https://localhost:8080/"
        },
        "id": "Cnk5cWcyOvyR",
        "outputId": "2d9c5c35-8aa6-4c26-804f-0bdb4438d1db"
      },
      "source": [
        "#Lasso regression model\n",
        "from sklearn.linear_model import Lasso\n",
        "13\n",
        "lasso = Lasso(random_state=0,max_iter=10000)\n",
        "#define a list of parameters\n",
        "param_lasso = {'alpha':[0.001, 0.01, 0.1, 1, 10, 100] }\n",
        "grid_lasso = GridSearchCV(lasso, param_lasso, cv=10, return_train_score = True)\n",
        "grid_lasso.fit(X_train, y_train)\n",
        "# Mean Cross Validation Score\n",
        "print(\"Best Mean Cross-validation score: {:.3f}\".format(grid_lasso.best_score_))\n",
        "print()\n",
        "# best parameters\n",
        "print('Lasso parameters: ', grid_lasso.best_params_)\n",
        "# Check test data set performance\n",
        "print('Train score: ', grid_lasso.score(X_train, y_train))\n",
        "print(\"Lasso Test Performance: \", grid_lasso.score(X_test,y_test))"
      ],
      "execution_count": null,
      "outputs": [
        {
          "output_type": "stream",
          "text": [
            "Best Mean Cross-validation score: 0.386\n",
            "\n",
            "Lasso parameters:  {'alpha': 0.001}\n",
            "Train score:  0.40071610462769675\n",
            "Lasso Test Performance:  0.36153951396754946\n"
          ],
          "name": "stdout"
        }
      ]
    },
    {
      "cell_type": "code",
      "metadata": {
        "colab": {
          "base_uri": "https://localhost:8080/"
        },
        "id": "ImHaBkKiOv6c",
        "outputId": "fbc1c4ae-5c58-4e97-86cd-3ee16343b7f0"
      },
      "source": [
        "# Decision Trees Regressor\n",
        "from sklearn.tree import DecisionTreeRegressor\n",
        "tree = DecisionTreeRegressor()\n",
        "param_grid = {'max_depth': range(1,10),\n",
        "'min_samples_split': range(2,10,1)}\n",
        "grid_tree = GridSearchCV(tree, param_grid, cv=5)\n",
        "grid_tree.fit(X_train,y_train)\n",
        "print(\"Best cross-validation score: {:.2f}\".format(grid_tree.best_score_))\n",
        "print(grid_tree.best_params_)\n",
        "print('train score: ', grid_tree.score(X_train, y_train))\n",
        "print('test score: ', grid_tree.score(X_test, y_test))"
      ],
      "execution_count": null,
      "outputs": [
        {
          "output_type": "stream",
          "text": [
            "Best cross-validation score: 0.79\n",
            "{'max_depth': 6, 'min_samples_split': 6}\n",
            "train score:  0.8368676687573738\n",
            "test score:  0.7979066173612149\n"
          ],
          "name": "stdout"
        }
      ]
    },
    {
      "cell_type": "code",
      "metadata": {
        "colab": {
          "base_uri": "https://localhost:8080/"
        },
        "id": "S-gt_-DaQ7UE",
        "outputId": "a088fc26-d71f-4e1c-9794-8ec216010fa5"
      },
      "source": [
        "file = pd.merge(load_d, weather_2,how='left',on='date')\n",
        "file.to_csv('data.csv')"
      ],
      "execution_count": null,
      "outputs": [
        {
          "output_type": "stream",
          "text": [
            "<class 'pandas.core.frame.DataFrame'>\n",
            "Int64Index: 5939 entries, 0 to 5938\n",
            "Data columns (total 17 columns):\n",
            " #   Column  Non-Null Count  Dtype         \n",
            "---  ------  --------------  -----         \n",
            " 0   date    5939 non-null   datetime64[ns]\n",
            " 1   Load    5908 non-null   float64       \n",
            " 2   AWND    5707 non-null   float64       \n",
            " 3   PRCP    5936 non-null   float64       \n",
            " 4   SNOW    5936 non-null   float64       \n",
            " 5   TMAX    5936 non-null   float64       \n",
            " 6   TMIN    5936 non-null   float64       \n",
            " 7   WDF2    5696 non-null   float64       \n",
            " 8   WSF2    5699 non-null   float64       \n",
            " 9   WT01    5936 non-null   float64       \n",
            " 10  WT02    5936 non-null   float64       \n",
            " 11  WT08    5936 non-null   float64       \n",
            " 12  WT13    5936 non-null   float64       \n",
            " 13  WT16    5936 non-null   float64       \n",
            " 14  WT18    5936 non-null   float64       \n",
            " 15  WT19    5936 non-null   float64       \n",
            " 16  WT22    5936 non-null   float64       \n",
            "dtypes: datetime64[ns](1), float64(16)\n",
            "memory usage: 835.2 KB\n"
          ],
          "name": "stdout"
        }
      ]
    },
    {
      "cell_type": "code",
      "metadata": {
        "id": "uj4PrVDSyy31"
      },
      "source": [
        ""
      ],
      "execution_count": null,
      "outputs": []
    },
    {
      "cell_type": "markdown",
      "metadata": {
        "id": "MBhr7wxby0WF"
      },
      "source": [
        "The current weather normalized load forecasting model has an approximate best of 80%"
      ]
    }
  ]
}